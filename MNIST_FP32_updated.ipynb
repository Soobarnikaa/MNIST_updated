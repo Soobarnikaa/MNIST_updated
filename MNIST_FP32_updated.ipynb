{
  "cells": [
    {
      "cell_type": "code",
      "source": [
        "torch.save(model.state_dict(), 'model.pth')"
      ],
      "metadata": {
        "id": "9XUKyINT3txx"
      },
      "execution_count": 6,
      "outputs": []
    },
    {
      "cell_type": "code",
      "source": [
        "import torch\n",
        "import torch.nn as nn\n",
        "import torch.optim as optim\n",
        "import torchvision.transforms as transforms\n",
        "import torchvision.datasets as datasets\n",
        "from torch.utils.data import DataLoader\n",
        "from mnist_model import MNISTModel\n",
        "\n",
        "def hook_fn(module, input, output, log_file):\n",
        "    with open(log_file, 'a') as f:\n",
        "        f.write(f\"\\nLayer: {module}\")\n",
        "        f.write(f\"\\nInput Tensor: {input}\")\n",
        "        f.write(f\"\\nOutput Tensor: {output}\\n\")\n",
        "\n",
        "def register_hooks_for_all_layers(model, log_file):\n",
        "    hooks = []\n",
        "    for layer in model.children():\n",
        "        hook = layer.register_forward_hook(lambda mod, inp, outp: hook_fn(mod, inp, outp, log_file))\n",
        "        hooks.append(hook)\n",
        "    return hooks\n",
        "\n",
        "model = MNISTModel(custom_conv=False).float()\n",
        "model.load_state_dict(torch.load('model.pth', weights_only=True))\n",
        "model.eval()\n",
        "log_file = \"tensor_logs.txt\"\n",
        "\n",
        "hooks = register_hooks_for_all_layers(model, log_file)\n",
        "\n",
        "torch.set_printoptions(profile=\"full\")\n",
        "\n",
        "transform = transforms.Compose([\n",
        "    transforms.ToTensor(),\n",
        "    transforms.Normalize((0.1307,), (0.3081,))\n",
        "])\n",
        "\n",
        "test_dataset = datasets.MNIST(root='./data', train=False, download=True, transform=transform)\n",
        "single_image, label = test_dataset[0]\n",
        "\n",
        "single_image = single_image.unsqueeze(0)\n",
        "\n",
        "with torch.no_grad():\n",
        "    output = model(single_image)\n",
        "\n",
        "for hook in hooks:\n",
        "    hook.remove()\n",
        "\n",
        "torch.set_printoptions(profile=\"default\")\n",
        "print(f\"Tensors saved to {log_file}\")\n"
      ],
      "metadata": {
        "colab": {
          "base_uri": "https://localhost:8080/"
        },
        "id": "xgW-j3t9BSGM",
        "outputId": "697ca93f-f3bf-4624-def4-e4ffc3f3a304"
      },
      "execution_count": 15,
      "outputs": [
        {
          "output_type": "stream",
          "name": "stdout",
          "text": [
            "Tensors saved to tensor_logs.txt\n"
          ]
        }
      ]
    },
    {
      "cell_type": "code",
      "source": [
        "from google.colab import files\n",
        "files.download('tensor_logs.txt')"
      ],
      "metadata": {
        "colab": {
          "base_uri": "https://localhost:8080/",
          "height": 17
        },
        "id": "UOcAgoMTBVPq",
        "outputId": "8c750faa-02f3-4b8c-953c-8d4dcb9bf206"
      },
      "execution_count": 16,
      "outputs": [
        {
          "output_type": "display_data",
          "data": {
            "text/plain": [
              "<IPython.core.display.Javascript object>"
            ],
            "application/javascript": [
              "\n",
              "    async function download(id, filename, size) {\n",
              "      if (!google.colab.kernel.accessAllowed) {\n",
              "        return;\n",
              "      }\n",
              "      const div = document.createElement('div');\n",
              "      const label = document.createElement('label');\n",
              "      label.textContent = `Downloading \"${filename}\": `;\n",
              "      div.appendChild(label);\n",
              "      const progress = document.createElement('progress');\n",
              "      progress.max = size;\n",
              "      div.appendChild(progress);\n",
              "      document.body.appendChild(div);\n",
              "\n",
              "      const buffers = [];\n",
              "      let downloaded = 0;\n",
              "\n",
              "      const channel = await google.colab.kernel.comms.open(id);\n",
              "      // Send a message to notify the kernel that we're ready.\n",
              "      channel.send({})\n",
              "\n",
              "      for await (const message of channel.messages) {\n",
              "        // Send a message to notify the kernel that we're ready.\n",
              "        channel.send({})\n",
              "        if (message.buffers) {\n",
              "          for (const buffer of message.buffers) {\n",
              "            buffers.push(buffer);\n",
              "            downloaded += buffer.byteLength;\n",
              "            progress.value = downloaded;\n",
              "          }\n",
              "        }\n",
              "      }\n",
              "      const blob = new Blob(buffers, {type: 'application/binary'});\n",
              "      const a = document.createElement('a');\n",
              "      a.href = window.URL.createObjectURL(blob);\n",
              "      a.download = filename;\n",
              "      div.appendChild(a);\n",
              "      a.click();\n",
              "      div.remove();\n",
              "    }\n",
              "  "
            ]
          },
          "metadata": {}
        },
        {
          "output_type": "display_data",
          "data": {
            "text/plain": [
              "<IPython.core.display.Javascript object>"
            ],
            "application/javascript": [
              "download(\"download_c0cbc165-fa94-43be-ae75-48d3c7da268d\", \"tensor_logs.txt\", 1405525)"
            ]
          },
          "metadata": {}
        }
      ]
    }
  ],
  "metadata": {
    "colab": {
      "provenance": []
    },
    "kernelspec": {
      "display_name": "Python 3",
      "name": "python3"
    },
    "language_info": {
      "name": "python"
    }
  },
  "nbformat": 4,
  "nbformat_minor": 0
}